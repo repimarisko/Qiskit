{
 "cells": [
  {
   "cell_type": "code",
   "execution_count": null,
   "metadata": {},
   "outputs": [],
   "source": [
    "!pip install qiskit-ibm-catalog qiskit_serverless"
   ]
  },
  {
   "cell_type": "code",
   "execution_count": null,
   "metadata": {},
   "outputs": [],
   "source": []
  },
  {
   "cell_type": "code",
   "execution_count": 3,
   "metadata": {},
   "outputs": [
    {
     "data": {
      "image/png": "[encoded data removed]",
      "text/plain": [
       "<Figure size 287.294x200.667 with 1 Axes>"
      ]
     },
     "execution_count": 3,
     "metadata": {},
     "output_type": "execute_result"
    }
   ],
   "source": [
    "\n",
    "from qiskit import QuantumCircuit\n",
    "from qiskit.quantum_info import SparsePauliOp\n",
    "from qiskit.transpiler.preset_passmanagers import generate_preset_pass_manager\n",
    "from qiskit_ibm_runtime import EstimatorV2 as Estimator\n",
    "\n",
    "# Create a new circuit with two qubits\n",
    "qc = QuantumCircuit(2)\n",
    "\n",
    "# Add a Hadamard gate to qubit 0\n",
    "qc.h(0)\n",
    "\n",
    "# Perform a controlled-X gate on qubit 1, controlled by qubit 0\n",
    "qc.cx(0, 1)\n",
    "\n",
    "# Return a drawing of the circuit using MatPlotLib (\"mpl\").\n",
    "qc.draw(\"mpl\")"
   ]
  },
  {
   "cell_type": "code",
   "execution_count": 8,
   "metadata": {},
   "outputs": [
    {
     "name": "stdout",
     "output_type": "stream",
     "text": [
      "Available backends: ['ibm_brisbane', 'ibm_kyiv', 'ibm_sherbrooke']\n",
      "Least busy backend: ibm_brisbane\n",
      "Error occurred during execution:\n",
      "EstimatorV2.__init__() got an unexpected keyword argument 'session'\n"
     ]
    }
   ],
   "source": [
    "from qiskit_ibm_runtime import QiskitRuntimeService\n",
    "from qiskit.quantum_info import SparsePauliOp\n",
    "\n",
    "# Replace 'YOUR_API_KEY' with your actual IBM Quantum API key\n",
    "API_KEY = ''\n",
    "\n",
    "try:\n",
    "    # Initialize the Qiskit Runtime Service with your API key\n",
    "    service = QiskitRuntimeService(channel=\"ibm_quantum\", token=API_KEY)\n",
    "    \n",
    "    # Get available backends\n",
    "    backends = service.backends()\n",
    "    print(\"Available backends:\", [backend.name for backend in backends])\n",
    "    \n",
    "    # Select a backend that's least busy\n",
    "    backend = service.least_busy(min_num_qubits=2)\n",
    "    print(f\"Least busy backend: {backend.name}\")\n",
    "    \n",
    "    # Create an estimator instance with specific options\n",
    "    options = {\n",
    "        'optimization_level': 1,\n",
    "        'resilience_level': 1\n",
    "    }\n",
    "    estimator = Estimator(session=backend, options=options)\n",
    "    \n",
    "    # Create observable for measurement (Z on first qubit, I on second)\n",
    "    observable = SparsePauliOp('ZI')\n",
    "    \n",
    "    # Run the circuit with shots specification\n",
    "    job = estimator.run(\n",
    "        circuits=[qc],\n",
    "        observables=[observable],\n",
    "        shots=1000\n",
    "    )\n",
    "    \n",
    "    # Get and print results\n",
    "    result = job.result()\n",
    "    print(f\"\\nResults from {backend.name} backend:\")\n",
    "    print(f\"Expectation value: {result.values[0]}\")\n",
    "    print(f\"Metadata: {result.metadata}\")\n",
    "\n",
    "except Exception as e:\n",
    "    print(\"Error occurred during execution:\")\n",
    "    print(str(e))\n"
   ]
  },
  {
   "cell_type": "code",
   "execution_count": 5,
   "metadata": {},
   "outputs": [
    {
     "name": "stdout",
     "output_type": "stream",
     "text": [
      "Using backend: ibm_brisbane\n",
      "Error in 3D matrix computation:\n",
      "EstimatorV2.__init__() got an unexpected keyword argument 'session'\n"
     ]
    }
   ],
   "source": [
    "from qiskit import QuantumCircuit, QuantumRegister, ClassicalRegister\n",
    "from qiskit.quantum_info import Operator\n",
    "from qiskit_ibm_runtime import Estimator\n",
    "import numpy as np\n",
    "\n",
    "# Initialize quantum circuit with 3 qubits\n",
    "qr = QuantumRegister(3, 'q')\n",
    "cr = ClassicalRegister(3, 'c')\n",
    "qc = QuantumCircuit(qr, cr)\n",
    "\n",
    "# Create a 3D rotation matrix (as an example using Pauli matrices)\n",
    "def create_3d_matrix():\n",
    "    # Creating 8x8 matrix for 3 qubits\n",
    "    X = np.array([[0, 1], [1, 0]])\n",
    "    Y = np.array([[0, -1j], [1j, 0]])\n",
    "    Z = np.array([[1, 0], [0, -1]])\n",
    "    \n",
    "    # Tensor product to create 3D operation\n",
    "    matrix_3d = np.kron(np.kron(X, Y), Z)\n",
    "    return matrix_3d\n",
    "\n",
    "# Create the 3D matrix\n",
    "matrix_3d = create_3d_matrix()\n",
    "\n",
    "# Convert to Qiskit operator\n",
    "operator_3d = Operator(matrix_3d)\n",
    "\n",
    "# Apply the custom operation to the circuit\n",
    "qc.unitary(operator_3d, [0,1,2], label='3D_Op')\n",
    "\n",
    "# Add measurements\n",
    "qc.measure(qr, cr)\n",
    "\n",
    "try:\n",
    "    # Initialize the Qiskit Runtime Service\n",
    "    service = QiskitRuntimeService(channel=\"ibm_quantum\", token=API_KEY)\n",
    "    \n",
    "    # Get a backend with at least 3 qubits\n",
    "    backend = service.least_busy(min_num_qubits=3)\n",
    "    print(f\"Using backend: {backend.name}\")\n",
    "    \n",
    "    # Create estimator\n",
    "    options = {\n",
    "        'optimization_level': 1,\n",
    "        'resilience_level': 1\n",
    "    }\n",
    "    estimator = Estimator(session=backend, options=options)\n",
    "    \n",
    "    # Create observable for 3D measurement\n",
    "    observable = SparsePauliOp('ZZZ')\n",
    "    \n",
    "    # Run the circuit\n",
    "    job = estimator.run(\n",
    "        circuits=[qc],\n",
    "        observables=[observable],\n",
    "        shots=1000\n",
    "    )\n",
    "    \n",
    "    # Get results\n",
    "    result = job.result()\n",
    "    print(\"\\nResults of 3D matrix operation:\")\n",
    "    print(f\"Expectation value: {result.values[0]}\")\n",
    "    print(f\"Matrix shape: {matrix_3d.shape}\")\n",
    "    print(f\"Circuit depth: {qc.depth()}\")\n",
    "    \n",
    "except Exception as e:\n",
    "    print(\"Error in 3D matrix computation:\")\n",
    "    print(str(e))\n"
   ]
  },
  {
   "cell_type": "code",
   "execution_count": 1,
   "metadata": {},
   "outputs": [
    {
     "ename": "QiskitServerlessException",
     "evalue": "Cannot verify token.",
     "output_type": "error",
     "traceback": [
      "\u001b[1;31m---------------------------------------------------------------------------\u001b[0m",
      "\u001b[1;31mQiskitServerlessException\u001b[0m                 Traceback (most recent call last)",
      "File \u001b[1;32mc:\\Project\\Python\\Qiskit\\Lib\\site-packages\\qiskit_serverless\\core\\clients\\serverless_client.py:134\u001b[0m, in \u001b[0;36mServerlessClient._verify_token\u001b[1;34m(self, token)\u001b[0m\n\u001b[0;32m    133\u001b[0m \u001b[38;5;28;01mtry\u001b[39;00m:\n\u001b[1;32m--> 134\u001b[0m     \u001b[43msafe_json_request\u001b[49m\u001b[43m(\u001b[49m\n\u001b[0;32m    135\u001b[0m \u001b[43m        \u001b[49m\u001b[43mrequest\u001b[49m\u001b[38;5;241;43m=\u001b[39;49m\u001b[38;5;28;43;01mlambda\u001b[39;49;00m\u001b[43m:\u001b[49m\u001b[43m \u001b[49m\u001b[43mrequests\u001b[49m\u001b[38;5;241;43m.\u001b[39;49m\u001b[43mget\u001b[49m\u001b[43m(\u001b[49m\n\u001b[0;32m    136\u001b[0m \u001b[43m            \u001b[49m\u001b[43murl\u001b[49m\u001b[38;5;241;43m=\u001b[39;49m\u001b[38;5;124;43mf\u001b[39;49m\u001b[38;5;124;43m\"\u001b[39;49m\u001b[38;5;132;43;01m{\u001b[39;49;00m\u001b[38;5;28;43mself\u001b[39;49m\u001b[38;5;241;43m.\u001b[39;49m\u001b[43mhost\u001b[49m\u001b[38;5;132;43;01m}\u001b[39;49;00m\u001b[38;5;124;43m/api/v1/programs/\u001b[39;49m\u001b[38;5;124;43m\"\u001b[39;49m\u001b[43m,\u001b[49m\n\u001b[0;32m    137\u001b[0m \u001b[43m            \u001b[49m\u001b[43mheaders\u001b[49m\u001b[38;5;241;43m=\u001b[39;49m\u001b[43m{\u001b[49m\u001b[38;5;124;43m\"\u001b[39;49m\u001b[38;5;124;43mAuthorization\u001b[39;49m\u001b[38;5;124;43m\"\u001b[39;49m\u001b[43m:\u001b[49m\u001b[43m \u001b[49m\u001b[38;5;124;43mf\u001b[39;49m\u001b[38;5;124;43m\"\u001b[39;49m\u001b[38;5;124;43mBearer \u001b[39;49m\u001b[38;5;132;43;01m{\u001b[39;49;00m\u001b[43mtoken\u001b[49m\u001b[38;5;132;43;01m}\u001b[39;49;00m\u001b[38;5;124;43m\"\u001b[39;49m\u001b[43m}\u001b[49m\u001b[43m,\u001b[49m\n\u001b[0;32m    138\u001b[0m \u001b[43m            \u001b[49m\u001b[43mtimeout\u001b[49m\u001b[38;5;241;43m=\u001b[39;49m\u001b[43mREQUESTS_TIMEOUT\u001b[49m\u001b[43m,\u001b[49m\n\u001b[0;32m    139\u001b[0m \u001b[43m        \u001b[49m\u001b[43m)\u001b[49m\u001b[43m,\u001b[49m\n\u001b[0;32m    140\u001b[0m \u001b[43m        \u001b[49m\u001b[43mverbose\u001b[49m\u001b[38;5;241;43m=\u001b[39;49m\u001b[38;5;28;43mself\u001b[39;49m\u001b[38;5;241;43m.\u001b[39;49m\u001b[43mverbose\u001b[49m\u001b[43m,\u001b[49m\n\u001b[0;32m    141\u001b[0m \u001b[43m    \u001b[49m\u001b[43m)\u001b[49m\n\u001b[0;32m    142\u001b[0m \u001b[38;5;28;01mexcept\u001b[39;00m QiskitServerlessException \u001b[38;5;28;01mas\u001b[39;00m reason:\n",
      "File \u001b[1;32mc:\\Project\\Python\\Qiskit\\Lib\\site-packages\\qiskit_serverless\\utils\\json.py:146\u001b[0m, in \u001b[0;36msafe_json_request\u001b[1;34m(request, verbose)\u001b[0m\n\u001b[0;32m    145\u001b[0m \u001b[38;5;28;01mif\u001b[39;00m response \u001b[38;5;129;01mis\u001b[39;00m \u001b[38;5;129;01mnot\u001b[39;00m \u001b[38;5;28;01mNone\u001b[39;00m \u001b[38;5;129;01mand\u001b[39;00m \u001b[38;5;129;01mnot\u001b[39;00m response\u001b[38;5;241m.\u001b[39mok:\n\u001b[1;32m--> 146\u001b[0m     \u001b[38;5;28;01mraise\u001b[39;00m QiskitServerlessException(\n\u001b[0;32m    147\u001b[0m         format_err_msg(\n\u001b[0;32m    148\u001b[0m             response\u001b[38;5;241m.\u001b[39mstatus_code,\n\u001b[0;32m    149\u001b[0m             \u001b[38;5;28mstr\u001b[39m(response\u001b[38;5;241m.\u001b[39mtext) \u001b[38;5;28;01mif\u001b[39;00m verbose \u001b[38;5;28;01melse\u001b[39;00m \u001b[38;5;28;01mNone\u001b[39;00m,\n\u001b[0;32m    150\u001b[0m         )\n\u001b[0;32m    151\u001b[0m     )\n\u001b[0;32m    153\u001b[0m decoding_error_message: Optional[\u001b[38;5;28mstr\u001b[39m] \u001b[38;5;241m=\u001b[39m \u001b[38;5;28;01mNone\u001b[39;00m\n",
      "\u001b[1;31mQiskitServerlessException\u001b[0m: \n| Message: Http bad request.\n| Code: 403",
      "\nThe above exception was the direct cause of the following exception:\n",
      "\u001b[1;31mQiskitServerlessException\u001b[0m                 Traceback (most recent call last)",
      "Cell \u001b[1;32mIn[1], line 5\u001b[0m\n\u001b[0;32m      2\u001b[0m \u001b[38;5;28;01mfrom\u001b[39;00m \u001b[38;5;21;01mqiskit_ibm_catalog\u001b[39;00m \u001b[38;5;28;01mimport\u001b[39;00m QiskitFunctionsCatalog\n\u001b[0;32m      4\u001b[0m \u001b[38;5;66;03m# authentication\u001b[39;00m\n\u001b[1;32m----> 5\u001b[0m client \u001b[38;5;241m=\u001b[39m \u001b[43mIBMServerlessClient\u001b[49m\u001b[43m(\u001b[49m\u001b[43mtoken\u001b[49m\u001b[38;5;241;43m=\u001b[39;49m\u001b[38;5;124;43m\"\u001b[39;49m\u001b[38;5;124;43m4cff0309af4fd050ede15a12ccc6e65b58d050f43e1bccc2dc5e812058b1004b88128c1ccbbc3faa1c6cb9dfce90a3a45be348a1eb4381d4ed413033e38f117c\u001b[39;49m\u001b[38;5;124;43m\"\u001b[39;49m\u001b[43m)\u001b[49m\n\u001b[0;32m      6\u001b[0m catalog \u001b[38;5;241m=\u001b[39m QiskitFunctionsCatalog(token\u001b[38;5;241m=\u001b[39m\u001b[38;5;124m\"\u001b[39m\u001b[38;5;124m4cff0309af4fd050ede15a12ccc6e65b58d050f43e1bccc2dc5e812058b1004b88128c1ccbbc3faa1c6cb9dfce90a3a45be348a1eb4381d4ed413033e38f117c\u001b[39m\u001b[38;5;124m\"\u001b[39m)\n\u001b[0;32m      8\u001b[0m \u001b[38;5;66;03m# load function\u001b[39;00m\n",
      "File \u001b[1;32mc:\\Project\\Python\\Qiskit\\Lib\\site-packages\\qiskit_serverless\\core\\clients\\serverless_client.py:472\u001b[0m, in \u001b[0;36mIBMServerlessClient.__init__\u001b[1;34m(self, token, name)\u001b[0m\n\u001b[0;32m    454\u001b[0m \u001b[38;5;250m\u001b[39m\u001b[38;5;124;03m\"\"\"\u001b[39;00m\n\u001b[0;32m    455\u001b[0m \u001b[38;5;124;03mInitialize a client with access to an IBMQ-provided remote cluster.\u001b[39;00m\n\u001b[0;32m    456\u001b[0m \n\u001b[1;32m   (...)\u001b[0m\n\u001b[0;32m    469\u001b[0m \u001b[38;5;124;03m    name: Name of the account to load\u001b[39;00m\n\u001b[0;32m    470\u001b[0m \u001b[38;5;124;03m\"\"\"\u001b[39;00m\n\u001b[0;32m    471\u001b[0m token \u001b[38;5;241m=\u001b[39m token \u001b[38;5;129;01mor\u001b[39;00m QiskitRuntimeService(name\u001b[38;5;241m=\u001b[39mname)\u001b[38;5;241m.\u001b[39mactive_account()\u001b[38;5;241m.\u001b[39mget(\u001b[38;5;124m\"\u001b[39m\u001b[38;5;124mtoken\u001b[39m\u001b[38;5;124m\"\u001b[39m)\n\u001b[1;32m--> 472\u001b[0m \u001b[38;5;28;43msuper\u001b[39;49m\u001b[43m(\u001b[49m\u001b[43m)\u001b[49m\u001b[38;5;241;43m.\u001b[39;49m\u001b[38;5;21;43m__init__\u001b[39;49m\u001b[43m(\u001b[49m\u001b[43mtoken\u001b[49m\u001b[38;5;241;43m=\u001b[39;49m\u001b[43mtoken\u001b[49m\u001b[43m,\u001b[49m\u001b[43m \u001b[49m\u001b[43mhost\u001b[49m\u001b[38;5;241;43m=\u001b[39;49m\u001b[43mIBM_SERVERLESS_HOST_URL\u001b[49m\u001b[43m)\u001b[49m\n",
      "File \u001b[1;32mc:\\Project\\Python\\Qiskit\\Lib\\site-packages\\qiskit_serverless\\core\\clients\\serverless_client.py:123\u001b[0m, in \u001b[0;36mServerlessClient.__init__\u001b[1;34m(self, name, host, version, token, verbose)\u001b[0m\n\u001b[0;32m    121\u001b[0m \u001b[38;5;28mself\u001b[39m\u001b[38;5;241m.\u001b[39mverbose \u001b[38;5;241m=\u001b[39m verbose\n\u001b[0;32m    122\u001b[0m \u001b[38;5;28mself\u001b[39m\u001b[38;5;241m.\u001b[39mversion \u001b[38;5;241m=\u001b[39m version\n\u001b[1;32m--> 123\u001b[0m \u001b[38;5;28;43mself\u001b[39;49m\u001b[38;5;241;43m.\u001b[39;49m\u001b[43m_verify_token\u001b[49m\u001b[43m(\u001b[49m\u001b[43mtoken\u001b[49m\u001b[43m)\u001b[49m\n\u001b[0;32m    125\u001b[0m \u001b[38;5;28mself\u001b[39m\u001b[38;5;241m.\u001b[39m_files_client \u001b[38;5;241m=\u001b[39m GatewayFilesClient(\u001b[38;5;28mself\u001b[39m\u001b[38;5;241m.\u001b[39mhost, \u001b[38;5;28mself\u001b[39m\u001b[38;5;241m.\u001b[39mtoken, \u001b[38;5;28mself\u001b[39m\u001b[38;5;241m.\u001b[39mversion)\n",
      "File \u001b[1;32mc:\\Project\\Python\\Qiskit\\Lib\\site-packages\\qiskit_serverless\\core\\clients\\serverless_client.py:143\u001b[0m, in \u001b[0;36mServerlessClient._verify_token\u001b[1;34m(self, token)\u001b[0m\n\u001b[0;32m    134\u001b[0m     safe_json_request(\n\u001b[0;32m    135\u001b[0m         request\u001b[38;5;241m=\u001b[39m\u001b[38;5;28;01mlambda\u001b[39;00m: requests\u001b[38;5;241m.\u001b[39mget(\n\u001b[0;32m    136\u001b[0m             url\u001b[38;5;241m=\u001b[39m\u001b[38;5;124mf\u001b[39m\u001b[38;5;124m\"\u001b[39m\u001b[38;5;132;01m{\u001b[39;00m\u001b[38;5;28mself\u001b[39m\u001b[38;5;241m.\u001b[39mhost\u001b[38;5;132;01m}\u001b[39;00m\u001b[38;5;124m/api/v1/programs/\u001b[39m\u001b[38;5;124m\"\u001b[39m,\n\u001b[1;32m   (...)\u001b[0m\n\u001b[0;32m    140\u001b[0m         verbose\u001b[38;5;241m=\u001b[39m\u001b[38;5;28mself\u001b[39m\u001b[38;5;241m.\u001b[39mverbose,\n\u001b[0;32m    141\u001b[0m     )\n\u001b[0;32m    142\u001b[0m \u001b[38;5;28;01mexcept\u001b[39;00m QiskitServerlessException \u001b[38;5;28;01mas\u001b[39;00m reason:\n\u001b[1;32m--> 143\u001b[0m     \u001b[38;5;28;01mraise\u001b[39;00m QiskitServerlessException(\u001b[38;5;124m\"\u001b[39m\u001b[38;5;124mCannot verify token.\u001b[39m\u001b[38;5;124m\"\u001b[39m) \u001b[38;5;28;01mfrom\u001b[39;00m \u001b[38;5;21;01mreason\u001b[39;00m\n",
      "\u001b[1;31mQiskitServerlessException\u001b[0m: Cannot verify token."
     ]
    }
   ],
   "source": [
    "from qiskit_serverless import IBMServerlessClient\n",
    "from qiskit_ibm_catalog import QiskitFunctionsCatalog\n",
    " \n",
    "# authentication\n",
    "client = IBMServerlessClient(token=\"4cff0309af4fd050ede15a12ccc6e65b58d050f43e1bccc2dc5e812058b1004b88128c1ccbbc3faa1c6cb9dfce90a3a45be348a1eb4381d4ed413033e38f117c\")\n",
    "catalog = QiskitFunctionsCatalog(token=\"4cff0309af4fd050ede15a12ccc6e65b58d050f43e1bccc2dc5e812058b1004b88128c1ccbbc3faa1c6cb9dfce90a3a45be348a1eb4381d4ed413033e38f117c\")\n",
    " \n",
    "# load function\n",
    "singularity = catalog.load(\"multiverse/singularity\")"
   ]
  },
  {
   "cell_type": "code",
   "execution_count": null,
   "metadata": {},
   "outputs": [],
   "source": []
  }
 ],
 "metadata": {
  "kernelspec": {
   "display_name": "Qiskit",
   "language": "python",
   "name": "python3"
  },
  "language_info": {
   "codemirror_mode": {
    "name": "ipython",
    "version": 3
   },
   "file_extension": ".py",
   "mimetype": "text/x-python",
   "name": "python",
   "nbconvert_exporter": "python",
   "pygments_lexer": "ipython3",
   "version": "3.12.7"
  }
 },
 "nbformat": 4,
 "nbformat_minor": 2
}
